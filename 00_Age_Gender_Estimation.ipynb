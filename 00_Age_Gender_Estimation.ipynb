{
  "nbformat": 4,
  "nbformat_minor": 0,
  "metadata": {
    "colab": {
      "provenance": [],
      "collapsed_sections": [],
      "authorship_tag": "ABX9TyPrO72c2N4WrYIJv9W06gmn",
      "include_colab_link": true
    },
    "kernelspec": {
      "name": "python3",
      "display_name": "Python 3"
    },
    "language_info": {
      "name": "python"
    },
    "accelerator": "GPU",
    "gpuClass": "standard",
    "widgets": {
      "application/vnd.jupyter.widget-state+json": {
        "8931f9ada6f340d8958b10a94db58e73": {
          "model_module": "@jupyter-widgets/controls",
          "model_name": "HBoxModel",
          "model_module_version": "1.5.0",
          "state": {
            "_dom_classes": [],
            "_model_module": "@jupyter-widgets/controls",
            "_model_module_version": "1.5.0",
            "_model_name": "HBoxModel",
            "_view_count": null,
            "_view_module": "@jupyter-widgets/controls",
            "_view_module_version": "1.5.0",
            "_view_name": "HBoxView",
            "box_style": "",
            "children": [
              "IPY_MODEL_990715851b814177bdadbca302b4afed",
              "IPY_MODEL_b738b5a2689a41468d7fd8435818e72d",
              "IPY_MODEL_42eb88783b3143ffa36d3a332d5874ef"
            ],
            "layout": "IPY_MODEL_735218aba15041c0b59554884358b1d9"
          }
        },
        "990715851b814177bdadbca302b4afed": {
          "model_module": "@jupyter-widgets/controls",
          "model_name": "HTMLModel",
          "model_module_version": "1.5.0",
          "state": {
            "_dom_classes": [],
            "_model_module": "@jupyter-widgets/controls",
            "_model_module_version": "1.5.0",
            "_model_name": "HTMLModel",
            "_view_count": null,
            "_view_module": "@jupyter-widgets/controls",
            "_view_module_version": "1.5.0",
            "_view_name": "HTMLView",
            "description": "",
            "description_tooltip": null,
            "layout": "IPY_MODEL_0198ab0f1de94577b67ec804416fa2f0",
            "placeholder": "​",
            "style": "IPY_MODEL_1982e47b660942b180cbc573b89b22ca",
            "value": "100%"
          }
        },
        "b738b5a2689a41468d7fd8435818e72d": {
          "model_module": "@jupyter-widgets/controls",
          "model_name": "FloatProgressModel",
          "model_module_version": "1.5.0",
          "state": {
            "_dom_classes": [],
            "_model_module": "@jupyter-widgets/controls",
            "_model_module_version": "1.5.0",
            "_model_name": "FloatProgressModel",
            "_view_count": null,
            "_view_module": "@jupyter-widgets/controls",
            "_view_module_version": "1.5.0",
            "_view_name": "ProgressView",
            "bar_style": "success",
            "description": "",
            "description_tooltip": null,
            "layout": "IPY_MODEL_b45ce7b347dd46c988e7b2ef9a558485",
            "max": 553433881,
            "min": 0,
            "orientation": "horizontal",
            "style": "IPY_MODEL_fc39d067106c4d05ac219706dd020cf4",
            "value": 553433881
          }
        },
        "42eb88783b3143ffa36d3a332d5874ef": {
          "model_module": "@jupyter-widgets/controls",
          "model_name": "HTMLModel",
          "model_module_version": "1.5.0",
          "state": {
            "_dom_classes": [],
            "_model_module": "@jupyter-widgets/controls",
            "_model_module_version": "1.5.0",
            "_model_name": "HTMLModel",
            "_view_count": null,
            "_view_module": "@jupyter-widgets/controls",
            "_view_module_version": "1.5.0",
            "_view_name": "HTMLView",
            "description": "",
            "description_tooltip": null,
            "layout": "IPY_MODEL_75f6358f7eb74ad3b7cfddda7f0a75c7",
            "placeholder": "​",
            "style": "IPY_MODEL_a8d1143719b34888baadc69bdaf70ac8",
            "value": " 528M/528M [00:04&lt;00:00, 141MB/s]"
          }
        },
        "735218aba15041c0b59554884358b1d9": {
          "model_module": "@jupyter-widgets/base",
          "model_name": "LayoutModel",
          "model_module_version": "1.2.0",
          "state": {
            "_model_module": "@jupyter-widgets/base",
            "_model_module_version": "1.2.0",
            "_model_name": "LayoutModel",
            "_view_count": null,
            "_view_module": "@jupyter-widgets/base",
            "_view_module_version": "1.2.0",
            "_view_name": "LayoutView",
            "align_content": null,
            "align_items": null,
            "align_self": null,
            "border": null,
            "bottom": null,
            "display": null,
            "flex": null,
            "flex_flow": null,
            "grid_area": null,
            "grid_auto_columns": null,
            "grid_auto_flow": null,
            "grid_auto_rows": null,
            "grid_column": null,
            "grid_gap": null,
            "grid_row": null,
            "grid_template_areas": null,
            "grid_template_columns": null,
            "grid_template_rows": null,
            "height": null,
            "justify_content": null,
            "justify_items": null,
            "left": null,
            "margin": null,
            "max_height": null,
            "max_width": null,
            "min_height": null,
            "min_width": null,
            "object_fit": null,
            "object_position": null,
            "order": null,
            "overflow": null,
            "overflow_x": null,
            "overflow_y": null,
            "padding": null,
            "right": null,
            "top": null,
            "visibility": null,
            "width": null
          }
        },
        "0198ab0f1de94577b67ec804416fa2f0": {
          "model_module": "@jupyter-widgets/base",
          "model_name": "LayoutModel",
          "model_module_version": "1.2.0",
          "state": {
            "_model_module": "@jupyter-widgets/base",
            "_model_module_version": "1.2.0",
            "_model_name": "LayoutModel",
            "_view_count": null,
            "_view_module": "@jupyter-widgets/base",
            "_view_module_version": "1.2.0",
            "_view_name": "LayoutView",
            "align_content": null,
            "align_items": null,
            "align_self": null,
            "border": null,
            "bottom": null,
            "display": null,
            "flex": null,
            "flex_flow": null,
            "grid_area": null,
            "grid_auto_columns": null,
            "grid_auto_flow": null,
            "grid_auto_rows": null,
            "grid_column": null,
            "grid_gap": null,
            "grid_row": null,
            "grid_template_areas": null,
            "grid_template_columns": null,
            "grid_template_rows": null,
            "height": null,
            "justify_content": null,
            "justify_items": null,
            "left": null,
            "margin": null,
            "max_height": null,
            "max_width": null,
            "min_height": null,
            "min_width": null,
            "object_fit": null,
            "object_position": null,
            "order": null,
            "overflow": null,
            "overflow_x": null,
            "overflow_y": null,
            "padding": null,
            "right": null,
            "top": null,
            "visibility": null,
            "width": null
          }
        },
        "1982e47b660942b180cbc573b89b22ca": {
          "model_module": "@jupyter-widgets/controls",
          "model_name": "DescriptionStyleModel",
          "model_module_version": "1.5.0",
          "state": {
            "_model_module": "@jupyter-widgets/controls",
            "_model_module_version": "1.5.0",
            "_model_name": "DescriptionStyleModel",
            "_view_count": null,
            "_view_module": "@jupyter-widgets/base",
            "_view_module_version": "1.2.0",
            "_view_name": "StyleView",
            "description_width": ""
          }
        },
        "b45ce7b347dd46c988e7b2ef9a558485": {
          "model_module": "@jupyter-widgets/base",
          "model_name": "LayoutModel",
          "model_module_version": "1.2.0",
          "state": {
            "_model_module": "@jupyter-widgets/base",
            "_model_module_version": "1.2.0",
            "_model_name": "LayoutModel",
            "_view_count": null,
            "_view_module": "@jupyter-widgets/base",
            "_view_module_version": "1.2.0",
            "_view_name": "LayoutView",
            "align_content": null,
            "align_items": null,
            "align_self": null,
            "border": null,
            "bottom": null,
            "display": null,
            "flex": null,
            "flex_flow": null,
            "grid_area": null,
            "grid_auto_columns": null,
            "grid_auto_flow": null,
            "grid_auto_rows": null,
            "grid_column": null,
            "grid_gap": null,
            "grid_row": null,
            "grid_template_areas": null,
            "grid_template_columns": null,
            "grid_template_rows": null,
            "height": null,
            "justify_content": null,
            "justify_items": null,
            "left": null,
            "margin": null,
            "max_height": null,
            "max_width": null,
            "min_height": null,
            "min_width": null,
            "object_fit": null,
            "object_position": null,
            "order": null,
            "overflow": null,
            "overflow_x": null,
            "overflow_y": null,
            "padding": null,
            "right": null,
            "top": null,
            "visibility": null,
            "width": null
          }
        },
        "fc39d067106c4d05ac219706dd020cf4": {
          "model_module": "@jupyter-widgets/controls",
          "model_name": "ProgressStyleModel",
          "model_module_version": "1.5.0",
          "state": {
            "_model_module": "@jupyter-widgets/controls",
            "_model_module_version": "1.5.0",
            "_model_name": "ProgressStyleModel",
            "_view_count": null,
            "_view_module": "@jupyter-widgets/base",
            "_view_module_version": "1.2.0",
            "_view_name": "StyleView",
            "bar_color": null,
            "description_width": ""
          }
        },
        "75f6358f7eb74ad3b7cfddda7f0a75c7": {
          "model_module": "@jupyter-widgets/base",
          "model_name": "LayoutModel",
          "model_module_version": "1.2.0",
          "state": {
            "_model_module": "@jupyter-widgets/base",
            "_model_module_version": "1.2.0",
            "_model_name": "LayoutModel",
            "_view_count": null,
            "_view_module": "@jupyter-widgets/base",
            "_view_module_version": "1.2.0",
            "_view_name": "LayoutView",
            "align_content": null,
            "align_items": null,
            "align_self": null,
            "border": null,
            "bottom": null,
            "display": null,
            "flex": null,
            "flex_flow": null,
            "grid_area": null,
            "grid_auto_columns": null,
            "grid_auto_flow": null,
            "grid_auto_rows": null,
            "grid_column": null,
            "grid_gap": null,
            "grid_row": null,
            "grid_template_areas": null,
            "grid_template_columns": null,
            "grid_template_rows": null,
            "height": null,
            "justify_content": null,
            "justify_items": null,
            "left": null,
            "margin": null,
            "max_height": null,
            "max_width": null,
            "min_height": null,
            "min_width": null,
            "object_fit": null,
            "object_position": null,
            "order": null,
            "overflow": null,
            "overflow_x": null,
            "overflow_y": null,
            "padding": null,
            "right": null,
            "top": null,
            "visibility": null,
            "width": null
          }
        },
        "a8d1143719b34888baadc69bdaf70ac8": {
          "model_module": "@jupyter-widgets/controls",
          "model_name": "DescriptionStyleModel",
          "model_module_version": "1.5.0",
          "state": {
            "_model_module": "@jupyter-widgets/controls",
            "_model_module_version": "1.5.0",
            "_model_name": "DescriptionStyleModel",
            "_view_count": null,
            "_view_module": "@jupyter-widgets/base",
            "_view_module_version": "1.2.0",
            "_view_name": "StyleView",
            "description_width": ""
          }
        }
      }
    }
  },
  "cells": [
    {
      "cell_type": "markdown",
      "metadata": {
        "id": "view-in-github",
        "colab_type": "text"
      },
      "source": [
        "<a href=\"https://colab.research.google.com/github/Hrithik2212/Age-Estimation-and-Gender-Classification-CNN-/blob/main/00_Age_Gender_Estimation.ipynb\" target=\"_parent\"><img src=\"https://colab.research.google.com/assets/colab-badge.svg\" alt=\"Open In Colab\"/></a>"
      ]
    },
    {
      "cell_type": "markdown",
      "source": [
        "# Age and gender Estimation "
      ],
      "metadata": {
        "id": "iXErItZZn3ph"
      }
    },
    {
      "cell_type": "code",
      "source": [
        "import torch\n",
        "import numpy as np, cv2, pandas as pd, glob, time\n",
        "import matplotlib.pyplot as plt\n",
        "import torch.nn as nn\n",
        "from torch import optim\n",
        "import torch.nn.functional as F\n",
        "from torch.utils.data import Dataset, DataLoader\n",
        "import torchvision\n",
        "import cv2 as cv\n",
        "from torchvision import transforms, models, datasets\n",
        "device = 'cuda' if torch.cuda.is_available() else 'cpu'\n",
        "device "
      ],
      "metadata": {
        "id": "I2VYHQzUn7Rq",
        "colab": {
          "base_uri": "https://localhost:8080/",
          "height": 35
        },
        "outputId": "d8d4b7a7-4389-4f1b-e402-7629ea96d07d"
      },
      "execution_count": 1,
      "outputs": [
        {
          "output_type": "execute_result",
          "data": {
            "text/plain": [
              "'cuda'"
            ],
            "application/vnd.google.colaboratory.intrinsic+json": {
              "type": "string"
            }
          },
          "metadata": {},
          "execution_count": 1
        }
      ]
    },
    {
      "cell_type": "markdown",
      "source": [
        "## Data Wrangling "
      ],
      "metadata": {
        "id": "ABVPLtGOvTIN"
      }
    },
    {
      "cell_type": "code",
      "source": [
        "from pydrive.auth import GoogleAuth\n",
        "from pydrive.drive import GoogleDrive\n",
        "from google.colab import auth\n",
        "from oauth2client.client import GoogleCredentials\n",
        "auth.authenticate_user()\n",
        "gauth = GoogleAuth()\n",
        "gauth.credentials=GoogleCredentials.get_application_default()\n",
        "drive = GoogleDrive(gauth)\n",
        "def getFile_from_drive( file_id, name ):\n",
        " downloaded = drive.CreateFile({'id': file_id})\n",
        " downloaded.GetContentFile(name)\n",
        "getFile_from_drive('1Z1RqRo0_JiavaZw2yzZG6WETdZQ8qX86',\n",
        " 'fairface-img-margin025-trainval.zip')\n",
        "getFile_from_drive('1k5vvyREmHDW5TSM9QgB04Bvc8C8_7dl-',\n",
        " 'fairface-label-train.csv')\n",
        "getFile_from_drive('1_rtz1M1zhvS0d5vVoXUamnohB6cJ02iJ',\n",
        " 'fairface-label-val.csv')\n",
        "!unzip -qq fairface-img-margin025-trainval.zip"
      ],
      "metadata": {
        "id": "n2uWc_RVvEAN"
      },
      "execution_count": 2,
      "outputs": []
    },
    {
      "cell_type": "markdown",
      "source": [
        "## Data Exploration and Preparation"
      ],
      "metadata": {
        "id": "LqFZv23bvdqE"
      }
    },
    {
      "cell_type": "code",
      "source": [
        "trn_df = pd.read_csv('fairface-label-train.csv')\n",
        "val_df = pd.read_csv('fairface-label-val.csv')\n",
        "trn_df.head()"
      ],
      "metadata": {
        "colab": {
          "base_uri": "https://localhost:8080/",
          "height": 206
        },
        "id": "cY71FkpQvc6c",
        "outputId": "535e3aa7-7432-4e45-8a5b-646092dedf45"
      },
      "execution_count": 3,
      "outputs": [
        {
          "output_type": "execute_result",
          "data": {
            "text/plain": [
              "          file  age  gender        race  service_test\n",
              "0  train/1.jpg   59    Male  East Asian          True\n",
              "1  train/2.jpg   39  Female      Indian         False\n",
              "2  train/3.jpg   11  Female       Black         False\n",
              "3  train/4.jpg   26  Female      Indian          True\n",
              "4  train/5.jpg   26  Female      Indian          True"
            ],
            "text/html": [
              "\n",
              "  <div id=\"df-76c59bf7-0aed-49d8-b1d6-c98d00c68a9a\">\n",
              "    <div class=\"colab-df-container\">\n",
              "      <div>\n",
              "<style scoped>\n",
              "    .dataframe tbody tr th:only-of-type {\n",
              "        vertical-align: middle;\n",
              "    }\n",
              "\n",
              "    .dataframe tbody tr th {\n",
              "        vertical-align: top;\n",
              "    }\n",
              "\n",
              "    .dataframe thead th {\n",
              "        text-align: right;\n",
              "    }\n",
              "</style>\n",
              "<table border=\"1\" class=\"dataframe\">\n",
              "  <thead>\n",
              "    <tr style=\"text-align: right;\">\n",
              "      <th></th>\n",
              "      <th>file</th>\n",
              "      <th>age</th>\n",
              "      <th>gender</th>\n",
              "      <th>race</th>\n",
              "      <th>service_test</th>\n",
              "    </tr>\n",
              "  </thead>\n",
              "  <tbody>\n",
              "    <tr>\n",
              "      <th>0</th>\n",
              "      <td>train/1.jpg</td>\n",
              "      <td>59</td>\n",
              "      <td>Male</td>\n",
              "      <td>East Asian</td>\n",
              "      <td>True</td>\n",
              "    </tr>\n",
              "    <tr>\n",
              "      <th>1</th>\n",
              "      <td>train/2.jpg</td>\n",
              "      <td>39</td>\n",
              "      <td>Female</td>\n",
              "      <td>Indian</td>\n",
              "      <td>False</td>\n",
              "    </tr>\n",
              "    <tr>\n",
              "      <th>2</th>\n",
              "      <td>train/3.jpg</td>\n",
              "      <td>11</td>\n",
              "      <td>Female</td>\n",
              "      <td>Black</td>\n",
              "      <td>False</td>\n",
              "    </tr>\n",
              "    <tr>\n",
              "      <th>3</th>\n",
              "      <td>train/4.jpg</td>\n",
              "      <td>26</td>\n",
              "      <td>Female</td>\n",
              "      <td>Indian</td>\n",
              "      <td>True</td>\n",
              "    </tr>\n",
              "    <tr>\n",
              "      <th>4</th>\n",
              "      <td>train/5.jpg</td>\n",
              "      <td>26</td>\n",
              "      <td>Female</td>\n",
              "      <td>Indian</td>\n",
              "      <td>True</td>\n",
              "    </tr>\n",
              "  </tbody>\n",
              "</table>\n",
              "</div>\n",
              "      <button class=\"colab-df-convert\" onclick=\"convertToInteractive('df-76c59bf7-0aed-49d8-b1d6-c98d00c68a9a')\"\n",
              "              title=\"Convert this dataframe to an interactive table.\"\n",
              "              style=\"display:none;\">\n",
              "        \n",
              "  <svg xmlns=\"http://www.w3.org/2000/svg\" height=\"24px\"viewBox=\"0 0 24 24\"\n",
              "       width=\"24px\">\n",
              "    <path d=\"M0 0h24v24H0V0z\" fill=\"none\"/>\n",
              "    <path d=\"M18.56 5.44l.94 2.06.94-2.06 2.06-.94-2.06-.94-.94-2.06-.94 2.06-2.06.94zm-11 1L8.5 8.5l.94-2.06 2.06-.94-2.06-.94L8.5 2.5l-.94 2.06-2.06.94zm10 10l.94 2.06.94-2.06 2.06-.94-2.06-.94-.94-2.06-.94 2.06-2.06.94z\"/><path d=\"M17.41 7.96l-1.37-1.37c-.4-.4-.92-.59-1.43-.59-.52 0-1.04.2-1.43.59L10.3 9.45l-7.72 7.72c-.78.78-.78 2.05 0 2.83L4 21.41c.39.39.9.59 1.41.59.51 0 1.02-.2 1.41-.59l7.78-7.78 2.81-2.81c.8-.78.8-2.07 0-2.86zM5.41 20L4 18.59l7.72-7.72 1.47 1.35L5.41 20z\"/>\n",
              "  </svg>\n",
              "      </button>\n",
              "      \n",
              "  <style>\n",
              "    .colab-df-container {\n",
              "      display:flex;\n",
              "      flex-wrap:wrap;\n",
              "      gap: 12px;\n",
              "    }\n",
              "\n",
              "    .colab-df-convert {\n",
              "      background-color: #E8F0FE;\n",
              "      border: none;\n",
              "      border-radius: 50%;\n",
              "      cursor: pointer;\n",
              "      display: none;\n",
              "      fill: #1967D2;\n",
              "      height: 32px;\n",
              "      padding: 0 0 0 0;\n",
              "      width: 32px;\n",
              "    }\n",
              "\n",
              "    .colab-df-convert:hover {\n",
              "      background-color: #E2EBFA;\n",
              "      box-shadow: 0px 1px 2px rgba(60, 64, 67, 0.3), 0px 1px 3px 1px rgba(60, 64, 67, 0.15);\n",
              "      fill: #174EA6;\n",
              "    }\n",
              "\n",
              "    [theme=dark] .colab-df-convert {\n",
              "      background-color: #3B4455;\n",
              "      fill: #D2E3FC;\n",
              "    }\n",
              "\n",
              "    [theme=dark] .colab-df-convert:hover {\n",
              "      background-color: #434B5C;\n",
              "      box-shadow: 0px 1px 3px 1px rgba(0, 0, 0, 0.15);\n",
              "      filter: drop-shadow(0px 1px 2px rgba(0, 0, 0, 0.3));\n",
              "      fill: #FFFFFF;\n",
              "    }\n",
              "  </style>\n",
              "\n",
              "      <script>\n",
              "        const buttonEl =\n",
              "          document.querySelector('#df-76c59bf7-0aed-49d8-b1d6-c98d00c68a9a button.colab-df-convert');\n",
              "        buttonEl.style.display =\n",
              "          google.colab.kernel.accessAllowed ? 'block' : 'none';\n",
              "\n",
              "        async function convertToInteractive(key) {\n",
              "          const element = document.querySelector('#df-76c59bf7-0aed-49d8-b1d6-c98d00c68a9a');\n",
              "          const dataTable =\n",
              "            await google.colab.kernel.invokeFunction('convertToInteractive',\n",
              "                                                     [key], {});\n",
              "          if (!dataTable) return;\n",
              "\n",
              "          const docLinkHtml = 'Like what you see? Visit the ' +\n",
              "            '<a target=\"_blank\" href=https://colab.research.google.com/notebooks/data_table.ipynb>data table notebook</a>'\n",
              "            + ' to learn more about interactive tables.';\n",
              "          element.innerHTML = '';\n",
              "          dataTable['output_type'] = 'display_data';\n",
              "          await google.colab.output.renderOutput(dataTable, element);\n",
              "          const docLink = document.createElement('div');\n",
              "          docLink.innerHTML = docLinkHtml;\n",
              "          element.appendChild(docLink);\n",
              "        }\n",
              "      </script>\n",
              "    </div>\n",
              "  </div>\n",
              "  "
            ]
          },
          "metadata": {},
          "execution_count": 3
        }
      ]
    },
    {
      "cell_type": "code",
      "source": [
        "trn_df.info()"
      ],
      "metadata": {
        "colab": {
          "base_uri": "https://localhost:8080/"
        },
        "id": "7ZfWBbZwvnwZ",
        "outputId": "e4fb1b28-912c-4625-8910-9f14164bdd9d"
      },
      "execution_count": 4,
      "outputs": [
        {
          "output_type": "stream",
          "name": "stdout",
          "text": [
            "<class 'pandas.core.frame.DataFrame'>\n",
            "RangeIndex: 86744 entries, 0 to 86743\n",
            "Data columns (total 5 columns):\n",
            " #   Column        Non-Null Count  Dtype \n",
            "---  ------        --------------  ----- \n",
            " 0   file          86744 non-null  object\n",
            " 1   age           86744 non-null  int64 \n",
            " 2   gender        86744 non-null  object\n",
            " 3   race          86744 non-null  object\n",
            " 4   service_test  86744 non-null  bool  \n",
            "dtypes: bool(1), int64(1), object(3)\n",
            "memory usage: 2.7+ MB\n"
          ]
        }
      ]
    },
    {
      "cell_type": "markdown",
      "source": [
        "## Model Building "
      ],
      "metadata": {
        "id": "_xOZlkrh99Xf"
      }
    },
    {
      "cell_type": "code",
      "source": [
        "IMAGE_SIZE = 224\n",
        "class GenderAgeClass(Dataset):\n",
        "  def __init__(self,folder,tfms=None):\n",
        "    self.df = folder \n",
        "    self.normalize = transforms.Normalize(\n",
        "                  mean=[0.485, 0.456, 0.406],\n",
        "                  std=[0.229, 0.224, 0.225])\n",
        "\n",
        "  def __len__(self):\n",
        "    return len(self.df)\n",
        "\n",
        "  def __getitem__(self,ix):\n",
        "    f = self.df.iloc[ix].squeeze()\n",
        "    file = f.file\n",
        "    gen = f.gender == 'Female'\n",
        "    age = f.age\n",
        "    im = cv.imread(file)\n",
        "    im = cv.cvtColor(im,cv.COLOR_BGR2RGB)\n",
        "    return im , age , gen \n",
        "\n",
        "  def process(self,im):\n",
        "    im = cv.resize(im , (IMAGE_SIZE,IMAGE_SIZE))\n",
        "    im = torch.tensor(im).permute(2,0,1)\n",
        "    im = self.normalize(im/255.)\n",
        "    return im[None] \n",
        "\n",
        "  def collate_fn(self,batch):\n",
        "    '''preprocess image , gender and age''' \n",
        "    ims , ages , gens = [] , [] , [] \n",
        "    for im , age , gen in batch:\n",
        "      im = self.process(im)\n",
        "      ims.append(im)\n",
        "      ages.append(float(int(age)/80))\n",
        "      gens.append(float(gen))\n",
        "    ages , gens =[torch.tensor(x).to(device).float() for x in [ages , gens]]\n",
        "    ims = torch.cat(ims).to(device)\n",
        "    return ims , ages ,gens \n"
      ],
      "metadata": {
        "id": "C3zcnZedvqqm"
      },
      "execution_count": 5,
      "outputs": []
    },
    {
      "cell_type": "code",
      "source": [
        "train = GenderAgeClass(trn_df)\n",
        "val = GenderAgeClass(val_df)"
      ],
      "metadata": {
        "id": "aTS0ysSlw9fE"
      },
      "execution_count": 6,
      "outputs": []
    },
    {
      "cell_type": "code",
      "source": [
        "train_loader = DataLoader(train , batch_size=32 ,shuffle=True ,collate_fn = train.collate_fn)\n",
        "val_loader = DataLoader(val , batch_size=32 , collate_fn = val.collate_fn)\n",
        "a , b , c = next(iter(train_loader))\n",
        "a.shape , b.shape , c.shape"
      ],
      "metadata": {
        "colab": {
          "base_uri": "https://localhost:8080/"
        },
        "id": "edhbgnQAxIxA",
        "outputId": "41d0ce1f-c651-431e-8810-69ec89cdd9da"
      },
      "execution_count": 7,
      "outputs": [
        {
          "output_type": "execute_result",
          "data": {
            "text/plain": [
              "(torch.Size([32, 3, 224, 224]), torch.Size([32]), torch.Size([32]))"
            ]
          },
          "metadata": {},
          "execution_count": 7
        }
      ]
    },
    {
      "cell_type": "code",
      "source": [
        "def get_model():\n",
        "  model = models.vgg16(pretrained=True)\n",
        "  for params in model.parameters():\n",
        "    params.requires_grad=False\n",
        "  model.avgpool = nn.Sequential(\n",
        "                        nn.Conv2d(512,512,3),\n",
        "                        nn.MaxPool2d(2),\n",
        "                        nn.ReLU(),\n",
        "                        nn.Flatten()\n",
        "  )\n",
        "  class GenderAgeClassifier(nn.Module):\n",
        "    def __init__(self):\n",
        "      super(GenderAgeClassifier,self).__init__()\n",
        "      self.intermediate = nn.Sequential(\n",
        "                          nn.Linear(2048,512),\n",
        "                          nn.ReLU(),\n",
        "                          nn.Dropout(0.4),\n",
        "                          nn.Linear(512,128),\n",
        "                          nn.ReLU(),\n",
        "                          nn.Dropout(0.4),\n",
        "                          nn.Linear(128,64),\n",
        "                          nn.ReLU(),\n",
        "      )\n",
        "      self.age_classifier = nn.Sequential(\n",
        "                                  nn.Linear(64,1),\n",
        "                                  nn.Sigmoid()\n",
        "      )\n",
        "      self.gender_classifier = nn.Sequential(\n",
        "                                  nn.Linear(64,1),\n",
        "                                  nn.Sigmoid()\n",
        "      )\n",
        "    def forward(self,X):\n",
        "        x = self.intermediate(X)\n",
        "        age = self.age_classifier(x)\n",
        "        gen = self.gender_classifier(x)\n",
        "        return age , gen \n",
        "    \n",
        "  model.classifier = GenderAgeClassifier()\n",
        "  gen_criterion = nn.BCELoss()\n",
        "  age_criterion = nn.L1Loss()\n",
        "  loss_fn = gen_criterion , age_criterion\n",
        "  optim = torch.optim.Adam(model.parameters(),lr=1e-4)\n",
        "  return model.to(device) , loss_fn , optim \n",
        "\n",
        "model , criterion , optimizer = get_model()"
      ],
      "metadata": {
        "colab": {
          "base_uri": "https://localhost:8080/",
          "height": 156,
          "referenced_widgets": [
            "8931f9ada6f340d8958b10a94db58e73",
            "990715851b814177bdadbca302b4afed",
            "b738b5a2689a41468d7fd8435818e72d",
            "42eb88783b3143ffa36d3a332d5874ef",
            "735218aba15041c0b59554884358b1d9",
            "0198ab0f1de94577b67ec804416fa2f0",
            "1982e47b660942b180cbc573b89b22ca",
            "b45ce7b347dd46c988e7b2ef9a558485",
            "fc39d067106c4d05ac219706dd020cf4",
            "75f6358f7eb74ad3b7cfddda7f0a75c7",
            "a8d1143719b34888baadc69bdaf70ac8"
          ]
        },
        "id": "16enNyKBx6Lb",
        "outputId": "4615d147-a662-45ce-e8fd-7d794a85041e"
      },
      "execution_count": 8,
      "outputs": [
        {
          "output_type": "stream",
          "name": "stderr",
          "text": [
            "/usr/local/lib/python3.7/dist-packages/torchvision/models/_utils.py:209: UserWarning: The parameter 'pretrained' is deprecated since 0.13 and will be removed in 0.15, please use 'weights' instead.\n",
            "  f\"The parameter '{pretrained_param}' is deprecated since 0.13 and will be removed in 0.15, \"\n",
            "/usr/local/lib/python3.7/dist-packages/torchvision/models/_utils.py:223: UserWarning: Arguments other than a weight enum or `None` for 'weights' are deprecated since 0.13 and will be removed in 0.15. The current behavior is equivalent to passing `weights=VGG16_Weights.IMAGENET1K_V1`. You can also use `weights=VGG16_Weights.DEFAULT` to get the most up-to-date weights.\n",
            "  warnings.warn(msg)\n",
            "Downloading: \"https://download.pytorch.org/models/vgg16-397923af.pth\" to /root/.cache/torch/hub/checkpoints/vgg16-397923af.pth\n"
          ]
        },
        {
          "output_type": "display_data",
          "data": {
            "text/plain": [
              "  0%|          | 0.00/528M [00:00<?, ?B/s]"
            ],
            "application/vnd.jupyter.widget-view+json": {
              "version_major": 2,
              "version_minor": 0,
              "model_id": "8931f9ada6f340d8958b10a94db58e73"
            }
          },
          "metadata": {}
        }
      ]
    },
    {
      "cell_type": "code",
      "source": [
        "from torchsummary import summary\n",
        "summary(model , (3,224,224))"
      ],
      "metadata": {
        "colab": {
          "base_uri": "https://localhost:8080/"
        },
        "id": "5LoCACo-9J8b",
        "outputId": "47676ff6-1131-4b30-a670-c37ede69fd16"
      },
      "execution_count": 9,
      "outputs": [
        {
          "output_type": "stream",
          "name": "stdout",
          "text": [
            "----------------------------------------------------------------\n",
            "        Layer (type)               Output Shape         Param #\n",
            "================================================================\n",
            "            Conv2d-1         [-1, 64, 224, 224]           1,792\n",
            "              ReLU-2         [-1, 64, 224, 224]               0\n",
            "            Conv2d-3         [-1, 64, 224, 224]          36,928\n",
            "              ReLU-4         [-1, 64, 224, 224]               0\n",
            "         MaxPool2d-5         [-1, 64, 112, 112]               0\n",
            "            Conv2d-6        [-1, 128, 112, 112]          73,856\n",
            "              ReLU-7        [-1, 128, 112, 112]               0\n",
            "            Conv2d-8        [-1, 128, 112, 112]         147,584\n",
            "              ReLU-9        [-1, 128, 112, 112]               0\n",
            "        MaxPool2d-10          [-1, 128, 56, 56]               0\n",
            "           Conv2d-11          [-1, 256, 56, 56]         295,168\n",
            "             ReLU-12          [-1, 256, 56, 56]               0\n",
            "           Conv2d-13          [-1, 256, 56, 56]         590,080\n",
            "             ReLU-14          [-1, 256, 56, 56]               0\n",
            "           Conv2d-15          [-1, 256, 56, 56]         590,080\n",
            "             ReLU-16          [-1, 256, 56, 56]               0\n",
            "        MaxPool2d-17          [-1, 256, 28, 28]               0\n",
            "           Conv2d-18          [-1, 512, 28, 28]       1,180,160\n",
            "             ReLU-19          [-1, 512, 28, 28]               0\n",
            "           Conv2d-20          [-1, 512, 28, 28]       2,359,808\n",
            "             ReLU-21          [-1, 512, 28, 28]               0\n",
            "           Conv2d-22          [-1, 512, 28, 28]       2,359,808\n",
            "             ReLU-23          [-1, 512, 28, 28]               0\n",
            "        MaxPool2d-24          [-1, 512, 14, 14]               0\n",
            "           Conv2d-25          [-1, 512, 14, 14]       2,359,808\n",
            "             ReLU-26          [-1, 512, 14, 14]               0\n",
            "           Conv2d-27          [-1, 512, 14, 14]       2,359,808\n",
            "             ReLU-28          [-1, 512, 14, 14]               0\n",
            "           Conv2d-29          [-1, 512, 14, 14]       2,359,808\n",
            "             ReLU-30          [-1, 512, 14, 14]               0\n",
            "        MaxPool2d-31            [-1, 512, 7, 7]               0\n",
            "           Conv2d-32            [-1, 512, 5, 5]       2,359,808\n",
            "        MaxPool2d-33            [-1, 512, 2, 2]               0\n",
            "             ReLU-34            [-1, 512, 2, 2]               0\n",
            "          Flatten-35                 [-1, 2048]               0\n",
            "           Linear-36                  [-1, 512]       1,049,088\n",
            "             ReLU-37                  [-1, 512]               0\n",
            "          Dropout-38                  [-1, 512]               0\n",
            "           Linear-39                  [-1, 128]          65,664\n",
            "             ReLU-40                  [-1, 128]               0\n",
            "          Dropout-41                  [-1, 128]               0\n",
            "           Linear-42                   [-1, 64]           8,256\n",
            "             ReLU-43                   [-1, 64]               0\n",
            "           Linear-44                    [-1, 1]              65\n",
            "          Sigmoid-45                    [-1, 1]               0\n",
            "           Linear-46                    [-1, 1]              65\n",
            "          Sigmoid-47                    [-1, 1]               0\n",
            "GenderAgeClassifier-48         [[-1, 1], [-1, 1]]               0\n",
            "================================================================\n",
            "Total params: 18,197,634\n",
            "Trainable params: 3,482,946\n",
            "Non-trainable params: 14,714,688\n",
            "----------------------------------------------------------------\n",
            "Input size (MB): 0.57\n",
            "Forward/backward pass size (MB): 218.55\n",
            "Params size (MB): 69.42\n",
            "Estimated Total Size (MB): 288.55\n",
            "----------------------------------------------------------------\n"
          ]
        }
      ]
    },
    {
      "cell_type": "markdown",
      "source": [
        "## Model Training "
      ],
      "metadata": {
        "id": "FA9TlrnA6n48"
      }
    },
    {
      "cell_type": "code",
      "source": [
        "def train_batch(data,model,optimizer,criteria):\n",
        "  model.train()\n",
        "  ims , age, gender = data\n",
        "  optimizer.zero_grad()\n",
        "  pred_gender ,pred_age= model(ims)\n",
        "  gender_criterion , age_criterion = criteria\n",
        "  gender_loss = gender_criterion(pred_gender.squeeze(),gender)\n",
        "  age_loss = age_criterion(pred_age.squeeze(),age)\n",
        "  total_loss = age_loss + gender_loss\n",
        "  total_loss.backward()\n",
        "  optimizer.step()\n",
        "  return total_loss\n",
        "\n",
        "def validate_batch(data,model,criteria):\n",
        "  model.eval()\n",
        "  ims , age , gender = data\n",
        "  with torch.no_grad():\n",
        "    pred_gender , pred_age = model(ims)\n",
        "  gender_criterion , age_criterion = criteria\n",
        "  gender_loss = gender_criterion(pred_gender.squeeze(),gender)\n",
        "  age_loss = age_criterion(pred_age.squeeze(),age)\n",
        "  total_loss = age_loss + gender_loss\n",
        "  pred_gender = (pred_gender > 0.5).squeeze()\n",
        "  gender_acc = (pred_gender == gender).float().sum()\n",
        "  age_mae = torch.abs(age-pred_age).float().sum()\n",
        "  return total_loss , gender_acc , age_mae"
      ],
      "metadata": {
        "id": "itGwGauP9bHZ"
      },
      "execution_count": 10,
      "outputs": []
    },
    {
      "cell_type": "code",
      "source": [
        "val_gender_accuracies ,val_age_maes = [] , []\n",
        "train_losses , val_losses = [] , [] "
      ],
      "metadata": {
        "id": "uIqsTtvQ89d_"
      },
      "execution_count": 12,
      "outputs": []
    },
    {
      "cell_type": "code",
      "source": [
        "EPOCHS = 5\n",
        "import time\n",
        "best_test_loss = 1000\n",
        "start = time.time()\n",
        "for epoch in range(EPOCHS):\n",
        "  epoch_train_loss , epoch_test_loss = 0 , 0 \n",
        "  val_age_mae , val_gender_acc ,ctr = 0 , 0, 0\n",
        "  _n = len(train_loader)\n",
        "  for ix,data in enumerate(train_loader):\n",
        "    loss = train_batch(data , model , optimizer , criterion)\n",
        "    epoch_train_loss += loss.item()\n",
        "  \n",
        "  for ix , data in enumerate(val_loader):\n",
        "    loss , gender_acc , age_mae = validate_batch(data,model,criterion)\n",
        "    epoch_test_loss += loss\n",
        "    val_age_mae += age_mae\n",
        "    val_gender_acc += gender_acc\n",
        "    ctr += len(data[0])\n",
        "\n",
        "  val_age_mae /= ctr\n",
        "  val_gender_acc /= ctr\n",
        "  epoch_train_loss /= len(train_loader)\n",
        "  epoch_test_loss /= len(val_loader)\n",
        "\n",
        "  elapsed = time.time()-start\n",
        "  best_test_loss = min(best_test_loss, epoch_test_loss)\n",
        "  print('{}/{} ({:.2f}s - {:.2f}s remaining)'.format(epoch+1, n_epochs, time.time()-start, (n_epochs-epoch)*(elapsed/(epoch+1))))\n",
        "  info = f'''Epoch: {epoch+1:03d}\\tTrain Loss: {epoch_train_loss:.3f}\\tTest: {epoch_test_loss:.3f}\\tBest Test Loss: {best_test_loss:.4f}'''\n",
        "  info += f'\\nGender Accuracy: {val_gender_acc*100:.2f}%\\tAge MAE: {val_age_mae:.2f}\\n'\n",
        "  print(info)\n",
        "\n",
        "  val_gender_accuracies.append(val_gender_acc)\n",
        "  val_age_maes.append(val_age_mae)\n"
      ],
      "metadata": {
        "id": "-NsgjGO29MVf"
      },
      "execution_count": null,
      "outputs": []
    },
    {
      "cell_type": "code",
      "source": [],
      "metadata": {
        "id": "bBffmT1d_U3e"
      },
      "execution_count": null,
      "outputs": []
    }
  ]
}